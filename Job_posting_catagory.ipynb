{
 "cells": [
  {
   "cell_type": "code",
   "execution_count": 1,
   "id": "a8d91a4e",
   "metadata": {},
   "outputs": [],
   "source": [
    "# importing libraries \n",
    "import requests\n",
    "from bs4 import BeautifulSoup\n",
    "import pandas as pd\n",
    "from datetime import date\n",
    "import json\n",
    "\n",
    "#defining AttributeError exception for get_text\n",
    "def txt_ex(i,select,class_):\n",
    "    try:\n",
    "        return i.find(select,class_).get_text().strip()\n",
    "    except AttributeError as Err:\n",
    "        return None\n",
    "\n",
    "#defining AttributeError exception for links\n",
    "def link_ex(i,href):\n",
    "    try:\n",
    "        return i.get(href)\n",
    "    except AttributeError as Err:\n",
    "        return None\n",
    "\n",
    "#removing new lines\n",
    "def remove_en(string):\n",
    "    if string is not None:\n",
    "        return string.replace(\"\\n\", \"\")\n",
    "\n",
    "#defining pulling data from website\n",
    "def pull_data(URL):\n",
    "\n",
    "    headers = {\"User-Agent\": \"Mozilla/5.0 (Windows NT 10.0; Win64; x64) AppleWebKit/537.36 (KHTML, like Gecko) Chrome/116.0.0.0 Safari/537.36\", \"Accept-Encoding\":\"gzip, deflate\", \"Accept\":\"text/html,application/xhtml+xml,application/xml;q=0.9,*/*;q=0.8\", \"DNT\":\"1\",\"Connection\":\"close\", \"Upgrade-Insecure-Requests\":\"1\"}\n",
    "\n",
    "    page=requests.get(URL, headers=headers)\n",
    "\n",
    "    soup1 = BeautifulSoup(page.content, \"html.parser\")\n",
    "\n",
    "    soup2 = BeautifulSoup(soup1.prettify(), \"html.parser\")\n",
    "\n",
    "    return soup2"
   ]
  },
  {
   "cell_type": "code",
   "execution_count": 2,
   "id": "284181b9",
   "metadata": {},
   "outputs": [],
   "source": [
    "#defining function for scrapping and storing data\n",
    "def monster_job_posting(URL):\n",
    "    data=[]\n",
    "    mining_date=date.today() \n",
    "    sector=URL[38:] #Getting the sector or job catagory\n",
    "    file_name=f'Monster.com_job_postings_{sector}_{mining_date}.csv' # declearing CSV file name for data storage\n",
    "    header_list=['Mining_date','Job_Title','Company','location','Posting_date','Description','Sector'] # header list for CSV file\n",
    "    soup_l=pull_data(URL)# pulling website HTML using predefined function\n",
    "    uls_l=soup_l.find('ul', class_=\"card-columns browse-all\")\n",
    "    h_s=uls_l.find_all('h2')\n",
    "    for loc_2 in h_s:\n",
    "        a2_s=loc_2.find('a')\n",
    "        links_l=link_ex(a2_s,'href')#Mining all job links\n",
    "        for i in range (1,100):\n",
    "            URL_j=f\"{links_l}?page={i}\" #making the job link into usable format to mine as much pages as possible\n",
    "            soup_job=pull_data(URL_j) #pulling data from each indiviudual sub job catagory\n",
    "            uls_j=soup_job.find('ul', class_=\"sc-harTkY jEHPnr\")\n",
    "            if uls_j is None:\n",
    "                break\n",
    "            else:\n",
    "                lis_j=uls_j.find_all('li')\n",
    "                for jobs in lis_j:\n",
    "                    job_title=txt_ex(jobs,\"a\",\"sc-gAjuZT cUPTNR\")#Getting the data of job_title\n",
    "                    company=txt_ex(jobs,'span',\"sc-kufkCr gQYLTh\")#getting the the data for company\n",
    "                    location=txt_ex(jobs,'span', \"sc-fICZUB eGdVIa\")#getting the data for location\n",
    "                    time=txt_ex(jobs,'span', \"sc-keuYuY hCErTd\")#getting job posting date\n",
    "                    desc=txt_ex(jobs,'div',\"sc-ffZAAA feXVMC\")# Getting additional descriptions\n",
    "                    desc=remove_en(desc)\n",
    "                    if job_title is not None:\n",
    "                        data.append([mining_date, job_title, company, location, time, desc,sector])\n",
    "                        df=pd.DataFrame(data)\n",
    "                        df.to_csv(file_name, header=header_list, index=False)\n",
    "    print(\"Mining Done\")"
   ]
  },
  {
   "cell_type": "code",
   "execution_count": 3,
   "id": "b41b1780",
   "metadata": {},
   "outputs": [
    {
     "name": "stdout",
     "output_type": "stream",
     "text": [
      "Mining Done\n"
     ]
    }
   ],
   "source": [
    "URL=f\"https://www.monster.com/jobs/browse/q-animal-care-jobs\"\n",
    "monster_job_posting(URL)#Scrapping for animal-care-jobs"
   ]
  },
  {
   "cell_type": "code",
   "execution_count": 4,
   "id": "f3056115",
   "metadata": {},
   "outputs": [
    {
     "name": "stdout",
     "output_type": "stream",
     "text": [
      "Mining Done\n"
     ]
    }
   ],
   "source": [
    "URL=f\"https://www.monster.com/jobs/browse/q-art-jobs\"\n",
    "monster_job_posting(URL)#Scrapping for art-jobs"
   ]
  },
  {
   "cell_type": "code",
   "execution_count": 5,
   "id": "2dcf5e05",
   "metadata": {},
   "outputs": [
    {
     "name": "stdout",
     "output_type": "stream",
     "text": [
      "Mining Done\n"
     ]
    }
   ],
   "source": [
    "URL=f\"https://www.monster.com/jobs/browse/q-building-maintenance-jobs\"\n",
    "monster_job_posting(URL)#Scrapping for building-maintenance-jobs"
   ]
  },
  {
   "cell_type": "code",
   "execution_count": 6,
   "id": "d0ede870",
   "metadata": {},
   "outputs": [
    {
     "name": "stdout",
     "output_type": "stream",
     "text": [
      "Mining Done\n"
     ]
    }
   ],
   "source": [
    "URL=f\"https://www.monster.com/jobs/browse/q-business-operations-jobs\"\n",
    "monster_job_posting(URL)#Scrapping for business-operations-jobs"
   ]
  },
  {
   "cell_type": "code",
   "execution_count": 8,
   "id": "c76f1d96",
   "metadata": {},
   "outputs": [
    {
     "name": "stdout",
     "output_type": "stream",
     "text": [
      "Mining Done\n"
     ]
    }
   ],
   "source": [
    "URL=f\"https://www.monster.com/jobs/browse/q-communications-jobs\"\n",
    "monster_job_posting(URL)"
   ]
  },
  {
   "cell_type": "code",
   "execution_count": 9,
   "id": "1aaa8574",
   "metadata": {},
   "outputs": [
    {
     "name": "stdout",
     "output_type": "stream",
     "text": [
      "Mining Done\n"
     ]
    }
   ],
   "source": [
    "URL=f\"https://www.monster.com/jobs/browse/q-computer-jobs\"\n",
    "monster_job_posting(URL)"
   ]
  },
  {
   "cell_type": "code",
   "execution_count": 10,
   "id": "50819f34",
   "metadata": {},
   "outputs": [
    {
     "name": "stdout",
     "output_type": "stream",
     "text": [
      "Mining Done\n"
     ]
    }
   ],
   "source": [
    "URL=f\"https://www.monster.com/jobs/browse/q-construction-jobs\"\n",
    "monster_job_posting(URL)"
   ]
  },
  {
   "cell_type": "code",
   "execution_count": 11,
   "id": "6cb436ea",
   "metadata": {},
   "outputs": [
    {
     "name": "stdout",
     "output_type": "stream",
     "text": [
      "Mining Done\n"
     ]
    }
   ],
   "source": [
    "URL=f\"https://www.monster.com/jobs/browse/q-education-jobs\"\n",
    "monster_job_posting(URL)"
   ]
  },
  {
   "cell_type": "code",
   "execution_count": 12,
   "id": "42e46a9c",
   "metadata": {},
   "outputs": [
    {
     "name": "stdout",
     "output_type": "stream",
     "text": [
      "Mining Done\n"
     ]
    }
   ],
   "source": [
    "URL=f\"https://www.monster.com/jobs/browse/q-engineering-jobs\"\n",
    "monster_job_posting(URL)"
   ]
  },
  {
   "cell_type": "code",
   "execution_count": 13,
   "id": "dfdef635",
   "metadata": {},
   "outputs": [
    {
     "name": "stdout",
     "output_type": "stream",
     "text": [
      "Mining Done\n"
     ]
    }
   ],
   "source": [
    "URL=f\"https://www.monster.com/jobs/browse/q-entertainment-jobs\"\n",
    "monster_job_posting(URL)"
   ]
  },
  {
   "cell_type": "code",
   "execution_count": 14,
   "id": "ea6625b0",
   "metadata": {},
   "outputs": [
    {
     "name": "stdout",
     "output_type": "stream",
     "text": [
      "Mining Done\n"
     ]
    }
   ],
   "source": [
    "URL=f\"https://www.monster.com/jobs/browse/q-executive-jobs\"\n",
    "monster_job_posting(URL)"
   ]
  },
  {
   "cell_type": "code",
   "execution_count": 15,
   "id": "394a60d7",
   "metadata": {},
   "outputs": [
    {
     "name": "stdout",
     "output_type": "stream",
     "text": [
      "Mining Done\n"
     ]
    }
   ],
   "source": [
    "URL=f\"https://www.monster.com/jobs/browse/q-extraction-jobs\"\n",
    "monster_job_posting(URL)"
   ]
  },
  {
   "cell_type": "code",
   "execution_count": 16,
   "id": "88470bcd",
   "metadata": {},
   "outputs": [
    {
     "name": "stdout",
     "output_type": "stream",
     "text": [
      "Mining Done\n"
     ]
    }
   ],
   "source": [
    "URL=f\"https://www.monster.com/jobs/browse/q-farming-jobs\"\n",
    "monster_job_posting(URL)"
   ]
  },
  {
   "cell_type": "code",
   "execution_count": 17,
   "id": "70fbd0d6",
   "metadata": {},
   "outputs": [
    {
     "name": "stdout",
     "output_type": "stream",
     "text": [
      "Mining Done\n"
     ]
    }
   ],
   "source": [
    "URL=f\"https://www.monster.com/jobs/browse/q-food-service-jobs\"\n",
    "monster_job_posting(URL)"
   ]
  },
  {
   "cell_type": "code",
   "execution_count": 18,
   "id": "d5319b5b",
   "metadata": {},
   "outputs": [
    {
     "name": "stdout",
     "output_type": "stream",
     "text": [
      "Mining Done\n"
     ]
    }
   ],
   "source": [
    "URL=f\"https://www.monster.com/jobs/browse/q-healthcare-jobs\"\n",
    "monster_job_posting(URL)"
   ]
  },
  {
   "cell_type": "code",
   "execution_count": 19,
   "id": "276925ec",
   "metadata": {},
   "outputs": [
    {
     "name": "stdout",
     "output_type": "stream",
     "text": [
      "Mining Done\n"
     ]
    }
   ],
   "source": [
    "URL=f\"https://www.monster.com/jobs/browse/q-healthcare-support-jobs\"\n",
    "monster_job_posting(URL)"
   ]
  },
  {
   "cell_type": "code",
   "execution_count": 20,
   "id": "5d77c718",
   "metadata": {},
   "outputs": [
    {
     "name": "stdout",
     "output_type": "stream",
     "text": [
      "Mining Done\n"
     ]
    }
   ],
   "source": [
    "URL=f\"https://www.monster.com/jobs/browse/q-healthcare-technology-jobs\"\n",
    "monster_job_posting(URL)"
   ]
  },
  {
   "cell_type": "code",
   "execution_count": 21,
   "id": "b3af6779",
   "metadata": {},
   "outputs": [
    {
     "name": "stdout",
     "output_type": "stream",
     "text": [
      "Mining Done\n"
     ]
    }
   ],
   "source": [
    "URL=f\"https://www.monster.com/jobs/browse/q-higher-ed-jobs\"\n",
    "monster_job_posting(URL)"
   ]
  },
  {
   "cell_type": "code",
   "execution_count": 22,
   "id": "c535cc5d",
   "metadata": {},
   "outputs": [
    {
     "name": "stdout",
     "output_type": "stream",
     "text": [
      "Mining Done\n"
     ]
    }
   ],
   "source": [
    "URL=f\"https://www.monster.com/jobs/browse/q-legal-jobs\"\n",
    "monster_job_posting(URL)"
   ]
  },
  {
   "cell_type": "code",
   "execution_count": 23,
   "id": "9224948a",
   "metadata": {},
   "outputs": [
    {
     "name": "stdout",
     "output_type": "stream",
     "text": [
      "Mining Done\n"
     ]
    }
   ],
   "source": [
    "URL=f\"https://www.monster.com/jobs/browse/q-library-jobs\"\n",
    "monster_job_posting(URL)"
   ]
  },
  {
   "cell_type": "code",
   "execution_count": 24,
   "id": "9b46a48a",
   "metadata": {},
   "outputs": [
    {
     "name": "stdout",
     "output_type": "stream",
     "text": [
      "Mining Done\n"
     ]
    }
   ],
   "source": [
    "URL=f\"https://www.monster.com/jobs/browse/q-life-science-jobs\"\n",
    "monster_job_posting(URL)"
   ]
  },
  {
   "cell_type": "code",
   "execution_count": 25,
   "id": "b65855a0",
   "metadata": {},
   "outputs": [
    {
     "name": "stdout",
     "output_type": "stream",
     "text": [
      "Mining Done\n"
     ]
    }
   ],
   "source": [
    "URL=f\"https://www.monster.com/jobs/browse/q-maintenance-jobs\"\n",
    "monster_job_posting(URL)"
   ]
  },
  {
   "cell_type": "code",
   "execution_count": 26,
   "id": "5e078512",
   "metadata": {},
   "outputs": [
    {
     "name": "stdout",
     "output_type": "stream",
     "text": [
      "Mining Done\n"
     ]
    }
   ],
   "source": [
    "URL=f\"https://www.monster.com/jobs/browse/q-management-jobs\"\n",
    "monster_job_posting(URL)"
   ]
  },
  {
   "cell_type": "code",
   "execution_count": 27,
   "id": "bc4629d1",
   "metadata": {},
   "outputs": [
    {
     "name": "stdout",
     "output_type": "stream",
     "text": [
      "Mining Done\n"
     ]
    }
   ],
   "source": [
    "URL=f\"https://www.monster.com/jobs/browse/q-math-jobs\"\n",
    "monster_job_posting(URL)"
   ]
  },
  {
   "cell_type": "code",
   "execution_count": 28,
   "id": "6278d924",
   "metadata": {},
   "outputs": [
    {
     "name": "stdout",
     "output_type": "stream",
     "text": [
      "Mining Done\n"
     ]
    }
   ],
   "source": [
    "URL=f\"https://www.monster.com/jobs/browse/q-media-jobs\"\n",
    "monster_job_posting(URL)"
   ]
  },
  {
   "cell_type": "code",
   "execution_count": 30,
   "id": "1f23083c",
   "metadata": {},
   "outputs": [
    {
     "name": "stdout",
     "output_type": "stream",
     "text": [
      "Mining Done\n"
     ]
    }
   ],
   "source": [
    "URL=f\"https://www.monster.com/jobs/browse/q-military-jobs\"\n",
    "monster_job_posting(URL)"
   ]
  },
  {
   "cell_type": "code",
   "execution_count": 31,
   "id": "00d39933",
   "metadata": {},
   "outputs": [
    {
     "name": "stdout",
     "output_type": "stream",
     "text": [
      "Mining Done\n"
     ]
    }
   ],
   "source": [
    "URL=f\"https://www.monster.com/jobs/browse/q-physical-science-jobs\"\n",
    "monster_job_posting(URL)"
   ]
  },
  {
   "cell_type": "code",
   "execution_count": 32,
   "id": "60253048",
   "metadata": {},
   "outputs": [
    {
     "name": "stdout",
     "output_type": "stream",
     "text": [
      "Mining Done\n"
     ]
    }
   ],
   "source": [
    "URL=f\"https://www.monster.com/jobs/browse/q-production-jobs\"\n",
    "monster_job_posting(URL)"
   ]
  },
  {
   "cell_type": "code",
   "execution_count": 33,
   "id": "2b6a8f53",
   "metadata": {},
   "outputs": [
    {
     "name": "stdout",
     "output_type": "stream",
     "text": [
      "Mining Done\n"
     ]
    }
   ],
   "source": [
    "URL=f\"https://www.monster.com/jobs/browse/q-sales-jobs\"\n",
    "monster_job_posting(URL)"
   ]
  },
  {
   "cell_type": "code",
   "execution_count": 34,
   "id": "b2fbd0c8",
   "metadata": {},
   "outputs": [
    {
     "name": "stdout",
     "output_type": "stream",
     "text": [
      "Mining Done\n"
     ]
    }
   ],
   "source": [
    "URL=f\"https://www.monster.com/jobs/browse/q-service-jobs\"\n",
    "monster_job_posting(URL)"
   ]
  },
  {
   "cell_type": "code",
   "execution_count": 35,
   "id": "1abfeca9",
   "metadata": {},
   "outputs": [
    {
     "name": "stdout",
     "output_type": "stream",
     "text": [
      "Mining Done\n"
     ]
    }
   ],
   "source": [
    "URL=f\"https://www.monster.com/jobs/browse/q-social-science-jobs\"\n",
    "monster_job_posting(URL)"
   ]
  },
  {
   "cell_type": "code",
   "execution_count": 36,
   "id": "163f824e",
   "metadata": {},
   "outputs": [
    {
     "name": "stdout",
     "output_type": "stream",
     "text": [
      "Mining Done\n"
     ]
    }
   ],
   "source": [
    "URL=f\"https://www.monster.com/jobs/browse/q-social-service-jobs\"\n",
    "monster_job_posting(URL)"
   ]
  },
  {
   "cell_type": "code",
   "execution_count": 37,
   "id": "43246643",
   "metadata": {},
   "outputs": [
    {
     "name": "stdout",
     "output_type": "stream",
     "text": [
      "Mining Done\n"
     ]
    }
   ],
   "source": [
    "URL=f\"https://www.monster.com/jobs/browse/q-sports-jobs\"\n",
    "monster_job_posting(URL)"
   ]
  },
  {
   "cell_type": "code",
   "execution_count": 38,
   "id": "30427fc2",
   "metadata": {},
   "outputs": [
    {
     "name": "stdout",
     "output_type": "stream",
     "text": [
      "Mining Done\n"
     ]
    }
   ],
   "source": [
    "URL=f\"https://www.monster.com/jobs/browse/q-transportation-jobs\"\n",
    "monster_job_posting(URL)"
   ]
  },
  {
   "cell_type": "code",
   "execution_count": 39,
   "id": "e6a4e2fd",
   "metadata": {},
   "outputs": [
    {
     "name": "stdout",
     "output_type": "stream",
     "text": [
      "Mining Done\n"
     ]
    }
   ],
   "source": [
    "URL=f\"https://www.monster.com/jobs/browse/q-administrative-jobs\"\n",
    "monster_job_posting(URL)"
   ]
  },
  {
   "cell_type": "code",
   "execution_count": 2,
   "id": "c77d80df",
   "metadata": {},
   "outputs": [],
   "source": [
    "import pandas as pd"
   ]
  },
  {
   "cell_type": "code",
   "execution_count": 4,
   "id": "350ab6d3",
   "metadata": {},
   "outputs": [
    {
     "data": {
      "text/html": [
       "<div>\n",
       "<style scoped>\n",
       "    .dataframe tbody tr th:only-of-type {\n",
       "        vertical-align: middle;\n",
       "    }\n",
       "\n",
       "    .dataframe tbody tr th {\n",
       "        vertical-align: top;\n",
       "    }\n",
       "\n",
       "    .dataframe thead th {\n",
       "        text-align: right;\n",
       "    }\n",
       "</style>\n",
       "<table border=\"1\" class=\"dataframe\">\n",
       "  <thead>\n",
       "    <tr style=\"text-align: right;\">\n",
       "      <th></th>\n",
       "      <th>Mining_date</th>\n",
       "      <th>Job_Title</th>\n",
       "      <th>Company</th>\n",
       "      <th>location</th>\n",
       "      <th>Posting_date</th>\n",
       "      <th>Description</th>\n",
       "      <th>Sector</th>\n",
       "    </tr>\n",
       "  </thead>\n",
       "  <tbody>\n",
       "    <tr>\n",
       "      <th>0</th>\n",
       "      <td>2023-08-30</td>\n",
       "      <td>Public Safety Dispatcher</td>\n",
       "      <td>TOWN OF EAST HAVEN</td>\n",
       "      <td>New Haven, CT</td>\n",
       "      <td>7 days ago</td>\n",
       "      <td>Actively Hiring</td>\n",
       "      <td>administrative-jobs</td>\n",
       "    </tr>\n",
       "    <tr>\n",
       "      <th>1</th>\n",
       "      <td>2023-08-30</td>\n",
       "      <td>Public Safety Dispatcher</td>\n",
       "      <td>Colorado State Patrol</td>\n",
       "      <td>Lakewood, CO</td>\n",
       "      <td>8 days ago</td>\n",
       "      <td>Full-time                                     ...</td>\n",
       "      <td>administrative-jobs</td>\n",
       "    </tr>\n",
       "    <tr>\n",
       "      <th>2</th>\n",
       "      <td>2023-08-30</td>\n",
       "      <td>Emergency Dispatch Operator</td>\n",
       "      <td>Brinks Home</td>\n",
       "      <td>Dallas, TX</td>\n",
       "      <td>Today</td>\n",
       "      <td>Actively Hiring</td>\n",
       "      <td>administrative-jobs</td>\n",
       "    </tr>\n",
       "    <tr>\n",
       "      <th>3</th>\n",
       "      <td>2023-08-30</td>\n",
       "      <td>Emergency Services Dispatcher</td>\n",
       "      <td>Government Employees Insurance Company</td>\n",
       "      <td>Robins AFB, GA</td>\n",
       "      <td>8 days ago</td>\n",
       "      <td>Actively Hiring</td>\n",
       "      <td>administrative-jobs</td>\n",
       "    </tr>\n",
       "    <tr>\n",
       "      <th>4</th>\n",
       "      <td>2023-08-30</td>\n",
       "      <td>Logistics Coordinator / Dispatcher</td>\n",
       "      <td>Westin Trading, Inc.</td>\n",
       "      <td>St. Louis, MO</td>\n",
       "      <td>7 days ago</td>\n",
       "      <td>Full-time                                     ...</td>\n",
       "      <td>administrative-jobs</td>\n",
       "    </tr>\n",
       "    <tr>\n",
       "      <th>5</th>\n",
       "      <td>2023-08-30</td>\n",
       "      <td>Logistics Coordinator/Dispatcher</td>\n",
       "      <td>Service Steel &amp; Pipe</td>\n",
       "      <td>Shreveport, LA</td>\n",
       "      <td>22 days ago</td>\n",
       "      <td>Full-time                                     ...</td>\n",
       "      <td>administrative-jobs</td>\n",
       "    </tr>\n",
       "    <tr>\n",
       "      <th>6</th>\n",
       "      <td>2023-08-30</td>\n",
       "      <td>Dispatcher</td>\n",
       "      <td>Colorado State Patrol</td>\n",
       "      <td>Lakewood, CO</td>\n",
       "      <td>7 days ago</td>\n",
       "      <td>Full-time                                     ...</td>\n",
       "      <td>administrative-jobs</td>\n",
       "    </tr>\n",
       "    <tr>\n",
       "      <th>7</th>\n",
       "      <td>2023-08-30</td>\n",
       "      <td>Dispatcher</td>\n",
       "      <td>TAG Refrigeration</td>\n",
       "      <td>Concord, CA</td>\n",
       "      <td>30 days ago</td>\n",
       "      <td>NaN</td>\n",
       "      <td>administrative-jobs</td>\n",
       "    </tr>\n",
       "    <tr>\n",
       "      <th>8</th>\n",
       "      <td>2023-08-30</td>\n",
       "      <td>Fleet Manager / Dispatcher</td>\n",
       "      <td>Warren Transport, Inc.</td>\n",
       "      <td>Waterloo, IA</td>\n",
       "      <td>8 days ago</td>\n",
       "      <td>NaN</td>\n",
       "      <td>administrative-jobs</td>\n",
       "    </tr>\n",
       "    <tr>\n",
       "      <th>9</th>\n",
       "      <td>2023-08-30</td>\n",
       "      <td>Public Safety Dispatcher</td>\n",
       "      <td>TOWN OF EAST HAVEN</td>\n",
       "      <td>New Haven, CT</td>\n",
       "      <td>7 days ago</td>\n",
       "      <td>Actively Hiring</td>\n",
       "      <td>administrative-jobs</td>\n",
       "    </tr>\n",
       "    <tr>\n",
       "      <th>10</th>\n",
       "      <td>2023-08-30</td>\n",
       "      <td>Public Safety Dispatcher</td>\n",
       "      <td>Colorado State Patrol</td>\n",
       "      <td>Lakewood, CO</td>\n",
       "      <td>8 days ago</td>\n",
       "      <td>Full-time                                     ...</td>\n",
       "      <td>administrative-jobs</td>\n",
       "    </tr>\n",
       "    <tr>\n",
       "      <th>11</th>\n",
       "      <td>2023-08-30</td>\n",
       "      <td>Emergency Dispatch Operator</td>\n",
       "      <td>Brinks Home</td>\n",
       "      <td>Dallas, TX</td>\n",
       "      <td>Today</td>\n",
       "      <td>Actively Hiring</td>\n",
       "      <td>administrative-jobs</td>\n",
       "    </tr>\n",
       "    <tr>\n",
       "      <th>12</th>\n",
       "      <td>2023-08-30</td>\n",
       "      <td>Emergency Services Dispatcher</td>\n",
       "      <td>Government Employees Insurance Company</td>\n",
       "      <td>Milledgeville, GA</td>\n",
       "      <td>8 days ago</td>\n",
       "      <td>Actively Hiring</td>\n",
       "      <td>administrative-jobs</td>\n",
       "    </tr>\n",
       "    <tr>\n",
       "      <th>13</th>\n",
       "      <td>2023-08-30</td>\n",
       "      <td>Logistics Coordinator / Dispatcher</td>\n",
       "      <td>Westin Trading, Inc.</td>\n",
       "      <td>St. Louis, MO</td>\n",
       "      <td>7 days ago</td>\n",
       "      <td>Full-time                                     ...</td>\n",
       "      <td>administrative-jobs</td>\n",
       "    </tr>\n",
       "    <tr>\n",
       "      <th>14</th>\n",
       "      <td>2023-08-30</td>\n",
       "      <td>Logistics Coordinator/Dispatcher</td>\n",
       "      <td>Service Steel &amp; Pipe</td>\n",
       "      <td>Shreveport, LA</td>\n",
       "      <td>22 days ago</td>\n",
       "      <td>Full-time                                     ...</td>\n",
       "      <td>administrative-jobs</td>\n",
       "    </tr>\n",
       "    <tr>\n",
       "      <th>15</th>\n",
       "      <td>2023-08-30</td>\n",
       "      <td>Dispatcher</td>\n",
       "      <td>Colorado State Patrol</td>\n",
       "      <td>Lakewood, CO</td>\n",
       "      <td>7 days ago</td>\n",
       "      <td>Full-time                                     ...</td>\n",
       "      <td>administrative-jobs</td>\n",
       "    </tr>\n",
       "    <tr>\n",
       "      <th>16</th>\n",
       "      <td>2023-08-30</td>\n",
       "      <td>Dispatcher</td>\n",
       "      <td>TAG Refrigeration</td>\n",
       "      <td>Concord, CA</td>\n",
       "      <td>30 days ago</td>\n",
       "      <td>NaN</td>\n",
       "      <td>administrative-jobs</td>\n",
       "    </tr>\n",
       "    <tr>\n",
       "      <th>17</th>\n",
       "      <td>2023-08-30</td>\n",
       "      <td>Fleet Manager / Dispatcher</td>\n",
       "      <td>Warren Transport, Inc.</td>\n",
       "      <td>Waterloo, IA</td>\n",
       "      <td>8 days ago</td>\n",
       "      <td>NaN</td>\n",
       "      <td>administrative-jobs</td>\n",
       "    </tr>\n",
       "    <tr>\n",
       "      <th>18</th>\n",
       "      <td>2023-08-30</td>\n",
       "      <td>Public Safety Dispatcher</td>\n",
       "      <td>TOWN OF EAST HAVEN</td>\n",
       "      <td>New Haven, CT</td>\n",
       "      <td>7 days ago</td>\n",
       "      <td>Actively Hiring</td>\n",
       "      <td>administrative-jobs</td>\n",
       "    </tr>\n",
       "    <tr>\n",
       "      <th>19</th>\n",
       "      <td>2023-08-30</td>\n",
       "      <td>Public Safety Dispatcher</td>\n",
       "      <td>Colorado State Patrol</td>\n",
       "      <td>Lakewood, CO</td>\n",
       "      <td>8 days ago</td>\n",
       "      <td>Full-time                                     ...</td>\n",
       "      <td>administrative-jobs</td>\n",
       "    </tr>\n",
       "  </tbody>\n",
       "</table>\n",
       "</div>"
      ],
      "text/plain": [
       "   Mining_date                           Job_Title  \\\n",
       "0   2023-08-30            Public Safety Dispatcher   \n",
       "1   2023-08-30            Public Safety Dispatcher   \n",
       "2   2023-08-30         Emergency Dispatch Operator   \n",
       "3   2023-08-30       Emergency Services Dispatcher   \n",
       "4   2023-08-30  Logistics Coordinator / Dispatcher   \n",
       "5   2023-08-30    Logistics Coordinator/Dispatcher   \n",
       "6   2023-08-30                          Dispatcher   \n",
       "7   2023-08-30                          Dispatcher   \n",
       "8   2023-08-30          Fleet Manager / Dispatcher   \n",
       "9   2023-08-30            Public Safety Dispatcher   \n",
       "10  2023-08-30            Public Safety Dispatcher   \n",
       "11  2023-08-30         Emergency Dispatch Operator   \n",
       "12  2023-08-30       Emergency Services Dispatcher   \n",
       "13  2023-08-30  Logistics Coordinator / Dispatcher   \n",
       "14  2023-08-30    Logistics Coordinator/Dispatcher   \n",
       "15  2023-08-30                          Dispatcher   \n",
       "16  2023-08-30                          Dispatcher   \n",
       "17  2023-08-30          Fleet Manager / Dispatcher   \n",
       "18  2023-08-30            Public Safety Dispatcher   \n",
       "19  2023-08-30            Public Safety Dispatcher   \n",
       "\n",
       "                                   Company           location Posting_date  \\\n",
       "0                       TOWN OF EAST HAVEN      New Haven, CT   7 days ago   \n",
       "1                    Colorado State Patrol       Lakewood, CO   8 days ago   \n",
       "2                              Brinks Home         Dallas, TX        Today   \n",
       "3   Government Employees Insurance Company     Robins AFB, GA   8 days ago   \n",
       "4                     Westin Trading, Inc.      St. Louis, MO   7 days ago   \n",
       "5                     Service Steel & Pipe     Shreveport, LA  22 days ago   \n",
       "6                    Colorado State Patrol       Lakewood, CO   7 days ago   \n",
       "7                        TAG Refrigeration        Concord, CA  30 days ago   \n",
       "8                   Warren Transport, Inc.       Waterloo, IA   8 days ago   \n",
       "9                       TOWN OF EAST HAVEN      New Haven, CT   7 days ago   \n",
       "10                   Colorado State Patrol       Lakewood, CO   8 days ago   \n",
       "11                             Brinks Home         Dallas, TX        Today   \n",
       "12  Government Employees Insurance Company  Milledgeville, GA   8 days ago   \n",
       "13                    Westin Trading, Inc.      St. Louis, MO   7 days ago   \n",
       "14                    Service Steel & Pipe     Shreveport, LA  22 days ago   \n",
       "15                   Colorado State Patrol       Lakewood, CO   7 days ago   \n",
       "16                       TAG Refrigeration        Concord, CA  30 days ago   \n",
       "17                  Warren Transport, Inc.       Waterloo, IA   8 days ago   \n",
       "18                      TOWN OF EAST HAVEN      New Haven, CT   7 days ago   \n",
       "19                   Colorado State Patrol       Lakewood, CO   8 days ago   \n",
       "\n",
       "                                          Description               Sector  \n",
       "0                                     Actively Hiring  administrative-jobs  \n",
       "1   Full-time                                     ...  administrative-jobs  \n",
       "2                                     Actively Hiring  administrative-jobs  \n",
       "3                                     Actively Hiring  administrative-jobs  \n",
       "4   Full-time                                     ...  administrative-jobs  \n",
       "5   Full-time                                     ...  administrative-jobs  \n",
       "6   Full-time                                     ...  administrative-jobs  \n",
       "7                                                 NaN  administrative-jobs  \n",
       "8                                                 NaN  administrative-jobs  \n",
       "9                                     Actively Hiring  administrative-jobs  \n",
       "10  Full-time                                     ...  administrative-jobs  \n",
       "11                                    Actively Hiring  administrative-jobs  \n",
       "12                                    Actively Hiring  administrative-jobs  \n",
       "13  Full-time                                     ...  administrative-jobs  \n",
       "14  Full-time                                     ...  administrative-jobs  \n",
       "15  Full-time                                     ...  administrative-jobs  \n",
       "16                                                NaN  administrative-jobs  \n",
       "17                                                NaN  administrative-jobs  \n",
       "18                                    Actively Hiring  administrative-jobs  \n",
       "19  Full-time                                     ...  administrative-jobs  "
      ]
     },
     "execution_count": 4,
     "metadata": {},
     "output_type": "execute_result"
    }
   ],
   "source": [
    "df=pd.read_csv(\"Monster.com_job_postings_administrative-jobs_2023-08-30.csv\")\n",
    "df.head(20)"
   ]
  },
  {
   "cell_type": "code",
   "execution_count": null,
   "id": "f8c57a15",
   "metadata": {},
   "outputs": [],
   "source": []
  }
 ],
 "metadata": {
  "kernelspec": {
   "display_name": "Python 3 (ipykernel)",
   "language": "python",
   "name": "python3"
  },
  "language_info": {
   "codemirror_mode": {
    "name": "ipython",
    "version": 3
   },
   "file_extension": ".py",
   "mimetype": "text/x-python",
   "name": "python",
   "nbconvert_exporter": "python",
   "pygments_lexer": "ipython3",
   "version": "3.11.4"
  }
 },
 "nbformat": 4,
 "nbformat_minor": 5
}
